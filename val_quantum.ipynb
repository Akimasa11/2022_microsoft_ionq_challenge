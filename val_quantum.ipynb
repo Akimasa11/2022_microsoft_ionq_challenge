{
  "cells": [
    {
      "cell_type": "code",
      "source": [
        "from azure.quantum import Workspace\n",
        "import math\n",
        "from IPython.display import display, clear_output\n",
        "workspace = Workspace (\n",
        "    subscription_id = \"b1d7f7f8-743f-458e-b3a0-3e09734d716d\",\n",
        "    resource_group = \"aq-hackathons\",\n",
        "    name = \"aq-hackathon-01\",\n",
        "    location = \"eastus\"\n",
        ")\n"
      ],
      "outputs": [],
      "execution_count": 1,
      "metadata": {
        "jupyter": {
          "outputs_hidden": false,
          "source_hidden": false
        },
        "nteract": {
          "transient": {
            "deleting": false
          }
        }
      }
    },
    {
      "cell_type": "code",
      "source": [
        "!pip install qiskit-aer --quiet\n",
        "!pip install azure-quantum[qiskit] --quiet\n",
        "!pip install termcolor --quiet\n",
        "!pip install matplotlib --quiet"
      ],
      "outputs": [
        {
          "output_type": "stream",
          "name": "stdout",
          "text": "\u001b[33mWARNING: You are using pip version 21.3.1; however, version 22.0 is available.\nYou should consider upgrading via the '/usr/local/bin/python -m pip install --upgrade pip' command.\u001b[0m\n\u001b[33mWARNING: You are using pip version 21.3.1; however, version 22.0 is available.\nYou should consider upgrading via the '/usr/local/bin/python -m pip install --upgrade pip' command.\u001b[0m\n\u001b[33mWARNING: You are using pip version 21.3.1; however, version 22.0 is available.\nYou should consider upgrading via the '/usr/local/bin/python -m pip install --upgrade pip' command.\u001b[0m\n\u001b[33mWARNING: You are using pip version 21.3.1; however, version 22.0 is available.\nYou should consider upgrading via the '/usr/local/bin/python -m pip install --upgrade pip' command.\u001b[0m\n"
        }
      ],
      "execution_count": 2,
      "metadata": {
        "jupyter": {
          "source_hidden": false,
          "outputs_hidden": false
        },
        "nteract": {
          "transient": {
            "deleting": false
          }
        }
      }
    },
    {
      "cell_type": "code",
      "source": [
        "from qiskit import *\n",
        "from azure.quantum.qiskit import AzureQuantumProvider\n",
        "provider = AzureQuantumProvider(\n",
        "    subscription_id = \"b1d7f7f8-743f-458e-b3a0-3e09734d716d\",\n",
        "    resource_group = \"aq-hackathons\",\n",
        "    name = \"aq-hackathon-01\",\n",
        "    location = \"eastus\"\n",
        ")\n",
        "from qiskit.quantum_info import Statevector\n",
        "from qiskit.extensions import Initialize\n",
        "import numpy as np\n",
        "simulator = Aer.get_backend('statevector_simulator')\n",
        "quantum_computer = provider.get_backend('ionq.q')"
      ],
      "outputs": [],
      "execution_count": 3,
      "metadata": {
        "jupyter": {
          "outputs_hidden": false,
          "source_hidden": false
        },
        "nteract": {
          "transient": {
            "deleting": false
          }
        }
      }
    },
    {
      "cell_type": "code",
      "source": [
        "def getStatevector(statevector_id):\n",
        "    state = []\n",
        "    if(statevector_id==0):\n",
        "        state = Statevector([1,0,0,0])\n",
        "    elif(statevector_id==1):\n",
        "        state = Statevector([0,1,0,0])\n",
        "    elif(statevector_id==2):\n",
        "        state = Statevector([0,0,1,0])\n",
        "    elif(statevector_id==3):\n",
        "        state = Statevector([0,0,0,1])\n",
        "    elif(statevector_id==4):\n",
        "        state = Statevector(np.array([1,0,0,1])*1/np.sqrt(2))\n",
        "    elif(statevector_id==5):\n",
        "        state = Statevector(np.array([1,1,0,0])*1/np.sqrt(2))\n",
        "    elif(statevector_id==6):\n",
        "        state = Statevector(np.array([1,0,1,0])*1/np.sqrt(2))\n",
        "    elif(statevector_id==7):\n",
        "        state = Statevector(np.array([0,1,0,1])*1/np.sqrt(2))\n",
        "    elif(statevector_id==8):\n",
        "        state = Statevector(np.array([0,0,1,1])*1/np.sqrt(2))\n",
        "    elif(statevector_id==9):\n",
        "        state = Statevector(np.array([0,1,1,0])*1/np.sqrt(2))\n",
        "    elif(statevector_id==10):\n",
        "        state = Statevector(np.array([-1,0,0,1])*1/np.sqrt(2))\n",
        "    elif(statevector_id==11):\n",
        "        state = Statevector(np.array([-1,1,0,0])*1/np.sqrt(2))\n",
        "    elif(statevector_id==12):\n",
        "        state = Statevector(np.array([-1,0,1,0])*1/np.sqrt(2))\n",
        "    elif(statevector_id==13):\n",
        "        state = Statevector(np.array([0,-1,0,1])*1/np.sqrt(2))\n",
        "    elif(statevector_id==14):\n",
        "        state = Statevector(np.array([0,0,1,-1])*1/np.sqrt(2))\n",
        "    elif(statevector_id==15):\n",
        "        state = Statevector(np.array([0,-1,1,0])*1/np.sqrt(2))\n",
        "    elif(statevector_id==16):\n",
        "        state = Statevector(np.array([1,-1,1,1])*1/2)\n",
        "    elif(statevector_id==17):\n",
        "        state = Statevector(np.array([1,1,-1,1])*1/2)\n",
        "    elif(statevector_id==18):\n",
        "        state = Statevector(np.array([1,1,1,-1])*1/2)\n",
        "    elif(statevector_id==19):\n",
        "        state = Statevector(np.array([-1,1,1,1])*1/2)\n",
        "    elif(statevector_id==20):\n",
        "        state = Statevector(np.array([-1,-1,1,1])*1/2)\n",
        "    elif(statevector_id==21):\n",
        "        state = Statevector(np.array([1,-1,-1,1])*1/2)\n",
        "    elif(statevector_id==22):\n",
        "        state = Statevector(np.array([-1,1,-1,1])*1/2)\n",
        "    elif(statevector_id==23):\n",
        "        state = Statevector(np.array([1,1,1,1])*1/2)\n",
        "        #return the statevector\n",
        "    return state"
      ],
      "outputs": [],
      "execution_count": 4,
      "metadata": {
        "jupyter": {
          "outputs_hidden": false,
          "source_hidden": false
        },
        "nteract": {
          "transient": {
            "deleting": false
          }
        }
      }
    },
    {
      "cell_type": "code",
      "source": [
        "#INITIALIZE QC\n",
        "def initializeQuantumCircuit(statevector_ids):\n",
        "    qc = QuantumCircuit(2)\n",
        "    player_statevector = getStatevector(statevector_ids[0])\n",
        "    target_statevector = getStatevector(statevector_ids[1])\n",
        "    init_gate = Initialize(player_statevector)\n",
        "    qc.append(init_gate,[0,1])\n",
        "    return qc"
      ],
      "outputs": [],
      "execution_count": 5,
      "metadata": {
        "jupyter": {
          "outputs_hidden": false,
          "source_hidden": false
        },
        "nteract": {
          "transient": {
            "deleting": false
          }
        }
      }
    },
    {
      "cell_type": "code",
      "source": [
        "def advanceTurnAux(gate,target_statevector,qc):\n",
        "    if(gate==\"h0\"):\n",
        "        qc.h(0)\n",
        "    elif(gate==\"h1\"):\n",
        "        qc.h(1)\n",
        "    elif(gate==\"x0\"):\n",
        "        qc.x(0)\n",
        "    elif(gate==\"x1\"):\n",
        "        qc.x(1)\n",
        "    elif(gate==\"z0\"):\n",
        "        qc.z(0)\n",
        "    elif(gate==\"z1\"):\n",
        "        qc.z(1)\n",
        "    elif(gate==\"cx0\"):\n",
        "        qc.cx(0,1)\n",
        "    elif(gate==\"cx1\"):\n",
        "        qc.cx(1,0)\n",
        "    elif(gate==\"swap\"):\n",
        "        qc.swap(0,1)\n",
        "    else:\n",
        "        return Exception\n",
        "    qc.barrier()\n",
        "    #need to run circuit on simulator here\n",
        "    job_sim = execute(qc,simulator,shots=1024)\n",
        "    currStatevector = job_sim.result().get_statevector(qc)\n",
        "    #compute inner product using get_statevector\n",
        "    innerProd = currStatevector.inner(target_statevector)\n",
        "    #return pretty version of statevector (so that player can see their current statevector) and inner product\n",
        "    return [qc, currStatevector, innerProd]"
      ],
      "outputs": [],
      "execution_count": 6,
      "metadata": {
        "jupyter": {
          "outputs_hidden": false,
          "source_hidden": false
        },
        "nteract": {
          "transient": {
            "deleting": false
          }
        }
      }
    },
    {
      "cell_type": "code",
      "source": [
        "def advanceTurn(gate, target_statevector_id,qc):\n",
        "    target_statevector = getStatevector(target_statevector_id)\n",
        "    return advanceTurnAux(gate,target_statevector,qc)"
      ],
      "outputs": [],
      "execution_count": 7,
      "metadata": {
        "jupyter": {
          "outputs_hidden": false,
          "source_hidden": false
        },
        "nteract": {
          "transient": {
            "deleting": false
          }
        }
      }
    },
    {
      "cell_type": "code",
      "source": [
        "def endGameMeasure(qc, target_sv):\n",
        "    #need to measure in the basis of the target statevector - we can achieve this by\n",
        "    #applying a gate that would take the target statevector to the Z basis and \n",
        "    #measure in the Z basis. \n",
        "    init_gate = Initialize(target_sv)\n",
        "    inverse_init_gate = init_gate.gates_to_uncompute()\n",
        "    qc.append(inverse_init_gate,[0,1])\n",
        "    qc.measure_all()\n",
        "    real_job = execute(qc,quantum_computer,shots=1024, qobj_header='val')\n",
        "    counts = real_job.result().get_counts()\n",
        "    if counts.get('00') is None: \n",
        "        return [False, counts] #loss\n",
        "    if(counts.get('00')>=1024*0.8):\n",
        "        return [True, counts] #win\n",
        "    else:\n",
        "        return [False, counts] #loss"
      ],
      "outputs": [],
      "execution_count": 8,
      "metadata": {
        "jupyter": {
          "outputs_hidden": false,
          "source_hidden": false
        },
        "nteract": {
          "transient": {
            "deleting": false
          }
        }
      }
    },
    {
      "cell_type": "code",
      "source": [
        "import random\n",
        "import re\n",
        "\n",
        "VICTORY_INNER_PRODUCT = 1\n",
        "\n",
        "responses = [\n",
        "    \"h\",\n",
        "    \"z\",\n",
        "    \"x\"\n",
        "]\n",
        "\n",
        "# Method returns first char (h,c,z,y,x,s) and target qubit (1 or 2 or n/a)\n",
        "\n",
        "def simplify_input(s):\n",
        "    out = s.replace(\" \", \"\")\n",
        "    out = out.lower()\n",
        "\n",
        "    # Selecting closest word in responses to input\n",
        "    '''match = re.match(r\"([a-z]+)([0-9]+)\", out, re.I)\n",
        "    if match:\n",
        "        items = match.groups()\n",
        "     temp = difflib.get_close_matches(items[0], responses, 1)'''\n",
        "\n",
        "    # swap gates don't need target qubits\n",
        "    if out == \"swap\":\n",
        "        return out\n",
        "\n",
        "    # return 2 chars for cnot/cx gate\n",
        "    if out[-1] == \"0\" or out[-1] == \"1\":\n",
        "      if (out[0] == 'c'):\n",
        "          return \"cx\" + out[-1]\n",
        "      if out[0] in responses:\n",
        "        return out[0] + out[-1]\n",
        "\n",
        "\n",
        "\n",
        "def calculate_values(gate, state_vector, target_vector):\n",
        "    \"\"\"Returns inner product and new state vector\"\"\"\n",
        "    return random.random() * 10, random.randint(0, 23)\n",
        "\n",
        "#general respones, ideally to be done in order\n",
        "\n",
        "# TODO: add more responses up to 8\n",
        "\n",
        "correct_responses = [\n",
        "    \"You got your crush's number!\",\n",
        "    \"Your crush winked at you!\",\n",
        "    \"A friend tells you that your crush likes you.\",\n",
        "    \"Your crush laughed the most at your joke today ... this is getting good!\",\n",
        "    \"You went to a movie with your crush, they even bought you popcorn!\",\n",
        "    \"You built up the courage and asked her to be your valentine, what will be her answer??\"\n",
        "]\n",
        "\n",
        "wrong_responses = [\n",
        "    \"Your crush ignored you at a gathering.\",\n",
        "    \"You tripped and fell and ... your crush laughed at you.\",\n",
        "    \"Your crush unfollowed you on instagram :(\",\n",
        "    \"Your crush waved at you and you waved ba- oh wait... she was waving at the person behind you.\",\n",
        "    \"You just saw your crush flirting with your least favorite person, how rude!\",\n",
        "    \"Hmm your crush is holding hands with someone else, it might be too late now.\"\n",
        "]\n",
        "\n",
        "opponent_responses = [\n",
        "  \"opponent 1\",\n",
        "  \"opponent 2\",\n",
        "  \"opponent 3\",\n",
        "  \"opponent 4\",\n",
        "  \"opponent 5\",\n",
        "  \"opponent 6\",\n",
        "  \"opponent 7\",\n",
        "  \"opponent 8\"\n",
        "]\n",
        "\n",
        "#final responses for either win or lose\n",
        "winning_response = \"She said yes!! You officially have a valentine right in time for Valentine's Day\"\n",
        "losing_response = \"Uh oh, looks like you have no valentine this year because you've been rejected... better luck next time, never give up!\"\n",
        "# TODO: fix versus losing response\n",
        "versus_losing_response = \"Opponent losing response\""
      ],
      "outputs": [],
      "execution_count": 9,
      "metadata": {
        "jupyter": {
          "outputs_hidden": false,
          "source_hidden": false
        },
        "nteract": {
          "transient": {
            "deleting": false
          }
        }
      }
    },
    {
      "cell_type": "code",
      "source": [
        "# Machine Learning section\n",
        "# ONLY RUN THIS CELL IN A LOCAL ENVIRONMENT (missing model file in Azure environment)\n",
        "\n",
        "from keras.models import Sequential\n",
        "from keras.layers import Dense, Flatten\n",
        "\n",
        "from ValentinesEnv import ValentinesEnv, gates\n",
        "\n",
        "from copy import deepcopy\n",
        "\n",
        "model = Sequential()\n",
        "model.add(Flatten(input_shape=(1, 49)))\n",
        "model.add(Dense(300, activation=\"relu\"))\n",
        "model.add(Dense(300, activation=\"relu\"))\n",
        "model.add(Dense(300, activation=\"relu\"))\n",
        "model.add(Dense(9, activation=\"relu\"))\n",
        "\n",
        "model.load_weights(\"dql-networks\\\\final.h5f\")\n",
        "\n",
        "env = ValentinesEnv()"
      ],
      "outputs": [],
      "execution_count": null,
      "metadata": {}
    },
    {
      "cell_type": "code",
      "source": [
        "# !pip install termcolor --quiet\n",
        "# !pip install matplotlib --quiet\n",
        "import matplotlib.pyplot as plt\n",
        "from termcolor import colored\n",
        "from qiskit.visualization import plot_histogram\n",
        "def clean_inner_product(inner_prod):\n",
        "    inner_prod_float = np.real(inner_prod).item()   \n",
        "    print(\"Your inner product is: \" + str(round(inner_prod_float, 2)))\n",
        "\n",
        "def clean_sv(player_sv):\n",
        "    player_sv_part = []\n",
        "    prob = player_sv.probabilities()\n",
        "    for x in range(4):\n",
        "        temp = np.real(player_sv[x]).item()\n",
        "        if (temp == 0):\n",
        "            player_sv_part.append(0.0)\n",
        "        else:\n",
        "            player_sv_part.append(round(temp, 2))\n",
        "    print(\"Your statevector is: [\", end=\"\")\n",
        "    for x in player_sv_part[:-1]:\n",
        "        print(str(x) + \", \", end=\" \"),\n",
        "    print(str(player_sv_part[-1]) + \"]\")    \n",
        "\n",
        "def clean_target_sv(player_sv):\n",
        "    player_sv_part = []\n",
        "    prob = player_sv.probabilities()\n",
        "    for x in range(4):\n",
        "        temp = np.real(player_sv[x]).item()\n",
        "        if (temp == 0):\n",
        "            player_sv_part.append(0.0)\n",
        "        else:\n",
        "            player_sv_part.append(round(temp, 2))\n",
        "    print(\"Your target statevector is: [\", end=\"\")\n",
        "    for x in player_sv_part[:-1]:\n",
        "        print(str(x) + \", \", end=\" \"),\n",
        "    print(str(player_sv_part[-1]) + \"]\") \n",
        "\n",
        "print(\"▀██▀─▄███▄─▀██─██▀██▀▀█\\n\",\n",
        "\"─██─███─███─██─██─██▄█\\n\",\n",
        "\"─██─▀██▄██▀─▀█▄█▀─██▀█\\n\",\n",
        "\"▄██▄▄█▀▀▀─────▀──▄██▄▄█\")\n",
        "print(\"Welcome to Quantum Valentine’s Day Dating!\")\n",
        "# TODO: cases where they type in something other than y or n\n",
        "versus = input(\"Would you like to play in solo mode or versus mode? Type y/n (y for versus and n for solo):\") == \"y\"\n",
        "print(f\"Starting the game in {'versus' if versus else 'solo'} mode!\")\n",
        "\n",
        "player_sv_id = random.randint(0,23)\n",
        "target_sv_id = random.randint(0,23)\n",
        "while(player_sv_id==target_sv_id):\n",
        "    target_sv_id = random.randint(0,23)\n",
        "\n",
        "if versus:\n",
        "  observation = deepcopy(env.reset())\n",
        "\n",
        "turn = 1\n",
        "\n",
        "qc = initializeQuantumCircuit([player_sv_id, target_sv_id])\n",
        "\n",
        "#compute initial inner product, print that and initial statevector\n",
        "player_sv = getStatevector(player_sv_id)\n",
        "target_sv = getStatevector(target_sv_id)\n",
        "prev_inner_prod = player_sv.inner(target_sv)\n",
        "\n",
        "clean_target_sv(target_sv)\n",
        "clean_sv(player_sv)\n",
        "\n",
        "clean_inner_product(prev_inner_prod)\n",
        "\n",
        "check_gate = [\"h0\",\"h1\",\"x0\",\"x1\",\"z0\",\"z1\",\"cx0\",\"cx1\",\"swap\"]\n",
        "\n",
        "# Initialization to make the compiler happy (doesn't do anything since when the else statement is called the variables are already definend)\n",
        "curr_statevector = player_sv\n",
        "new_inner_prod = prev_inner_prod\n",
        "\n",
        "while True:\n",
        "    gate = None\n",
        "    boolCheck = True\n",
        "    while boolCheck:\n",
        "        # Explain which gates, the function of the gates, and how the input works (esp for the CNOT gates)\n",
        "        print(\"The available gates are H, X, Z, CNOT, SWAP. Please indicate which qubit to put the gate on for single qubit gates and which one is the target for the CNOT gate. (e.g. for H on the 1st qubit - h0, for CNOT with 2nd qubit as control and 1st as target - cx1\")\n",
        "        gate = simplify_input(\n",
        "            input(\"Enter a gate to modify the state vector: \"))\n",
        "        if gate not in check_gate:\n",
        "            clear_output()\n",
        "            if (turn == 1):\n",
        "                clean_target_sv(target_sv)\n",
        "                clean_sv(player_sv)\n",
        "                clean_inner_product(prev_inner_prod)\n",
        "            else:\n",
        "                clean_target_sv(target_sv)\n",
        "                clean_sv(curr_statevector)\n",
        "                clean_inner_product(new_inner_prod)\n",
        "            print(\"You entered an invalid gate, please try again.\")\n",
        "        else:\n",
        "            boolCheck = False\n",
        "    boolCheck = True\n",
        "    qc, curr_statevector, new_inner_prod = advanceTurn(\n",
        "        gate, target_sv_id, qc)\n",
        "    clear_output()\n",
        "    clean_target_sv(target_sv)\n",
        "    clean_sv(curr_statevector)\n",
        "    clean_inner_product(new_inner_prod)\n",
        "    print('Current quantum circuit: ')\n",
        "    print(qc)\n",
        "\n",
        "    done = False\n",
        "    if versus:\n",
        "      action_values = model.predict(np.array([[observation]]))[0]\n",
        "      action = action_values.argmax(axis=0)\n",
        "      observation, reward, done, info = env.step(action)\n",
        "      observation = deepcopy(observation)\n",
        "      print(f\"Your opponent chose to use a {gates[action]} gate.\")\n",
        "      # last element of observation is the model's new inner product\n",
        "      if observation[48] > new_inner_prod:\n",
        "        print(opponent_responses[turn])\n",
        "      else:\n",
        "        print(correct_responses[turn])\n",
        "    \n",
        "    else:\n",
        "      if(prev_inner_prod < new_inner_prod):\n",
        "          print(colored(correct_responses[np.mod(turn,6)],'red'))\n",
        "      else:\n",
        "          print(colored(wrong_responses[np.mod(turn,6)],'red'))\n",
        "\n",
        "    if done or new_inner_prod > 0.99  or turn >= 8:\n",
        "        print(colored('Time is up! You asked your crush out and are waiting for your their response. It feels like an eternity waiting for the response... (the real quantum computer just has long queue times)','red'))\n",
        "        print('(Here, we are measuring your statevector and seeing how many times it becomes measured in the target statevector basis (win - 80% success rate). We measure in the target statevector basis by applying a gate that would take the target statevector to the Z basis and measure in the Z basis - so a success will be a 00 measured.)')\n",
        "        win, counts = endGameMeasure(qc,target_sv)\n",
        "        if win:\n",
        "            print(colored(winning_response,'green'))\n",
        "            print(colored('Congratulations on winning! Below is the circuit you produced - we hope your love will develop into something as beautiful as this.','green'))\n",
        "            print(qc)\n",
        "            print(\"── ── ██ ██ ██ ── ── ── ██ ██ ██\\n\",\n",
        "\"── ██ ██ ██ ██ ██ ── ██ ██ ██ ██ ██\\n\",\n",
        "\"██ ██ ██ ██ ██ ██ ██ ██ ██ ██ ██ ██ ██\\n\",\n",
        "\"██ ██ ██ ██ ██ ██ ██ ██ ██ ██ ██ ██ ██\\n\"\n",
        "\"██ ██ ██ ██ ██ ██ ██ ██ ██ ██ ██ ██ ██\\n\",\n",
        "\"██ ██ ██ ██ ██ ██ ██ ██ ██ ██ ██ ██ ██\\n\",\n",
        "\"── ██ ██ ██ ██ ██ ██ ██ ██ ██ ██ ██\\n\"\n",
        "\"── ── ██ ██ ██ ██ ██ ██ ██ ██ ██\\n\"\n",
        "\"── ── ── ██ ██ ██ ██ ██ ██ ██\\n\"\n",
        "\"── ── ── ── ██ ██ ██ ██ ██\\n\"\n",
        "\"── ── ── ── ── ██ ██ ██\\n\"\n",
        "\"── ── ── ── ── ── ██\\n\")\n",
        "        else:\n",
        "            print(versus_losing_response if versus else colored(losing_response,'blue'))\n",
        "            print(\"  _♥__♥_____♥__♥__\\n\",\n",
        "\"_♥_____♥_♥_____♥\\n\",\n",
        "\"_♥______♥______♥\\n\",\n",
        "\"__♥_____/______♥\\n\",\n",
        "\"___♥____\\_____♥\\n\",\n",
        "\"____♥___/___♥__\\n\",\n",
        "\"______♥_\\_♥____\\n\",\n",
        "\"________♥______\\n\"\n",
        ")\n",
        "            print(colored(\"Below is your histogram for future reference. Many other fish out there!\",'blue'))\n",
        "            plt.bar(counts.keys(), counts.values())\n",
        "            plt.title('Frequency Histogram (00 is the success state)')\n",
        "            plt.ylabel('Frequency (ran a total of 1024 times)')\n",
        "            plt.show()\n",
        "            print('The histogram is different from what you would expect from the final statevector since we have effectively switched the measurement basis to the target statevector basis.')\n",
        "        break\n",
        "        \n",
        "    prev_inner_prod = new_inner_prod\n",
        "    turn += 1"
      ],
      "outputs": [
        {
          "output_type": "stream",
          "name": "stdout",
          "text": "Your target statevector is: [0.5,  0.5,  0.5,  0.5]\nYour statevector is: [-0.5,  -0.5,  -0.5,  0.5]\nYour inner product is: -0.5\nCurrent quantum circuit: \n     ┌───────────────────────────────┐      ░ ┌───┐ ░       ░     ░ ┌───┐ ░ »\nq_0: ┤0                              ├──────░─┤ Z ├─░───────░──X──░─┤ X ├─░─»\n     │  Initialize(0.5,0.5,0.5,-0.5) │┌───┐ ░ └───┘ ░ ┌───┐ ░  │  ░ └─┬─┘ ░ »\nq_1: ┤1                              ├┤ Z ├─░───────░─┤ X ├─░──X──░───■───░─»\n     └───────────────────────────────┘└───┘ ░       ░ └───┘ ░     ░       ░ »\n«           ░       ░ ┌───┐ ░ \n«q_0: ──■───░───────░─┤ H ├─░─\n«     ┌─┴─┐ ░ ┌───┐ ░ └───┘ ░ \n«q_1: ┤ X ├─░─┤ H ├─░───────░─\n«     └───┘ ░ └───┘ ░       ░ \n\u001b[31mA friend tells you that your crush likes you.\u001b[0m\n\u001b[31mTime is up! You asked your crush out and are waiting for your their response. It feels like an eternity waiting for the response... (the real quantum computer just has long queue times)\u001b[0m\n(Here, we are measuring your statevector and seeing how many times it becomes measured in the target statevector basis (win - 80% success rate). We measure in the target statevector basis by applying a gate that would take the target statevector to the Z basis and measure in the Z basis - so a success will be a 00 measured.)\n............\u001b[34mUh oh, looks like you have no valentine this year because you've been rejected... better luck next time, never give up!\u001b[0m\n  _♥__♥_____♥__♥__\n _♥_____♥_♥_____♥\n _♥______♥______♥\n __♥_____/______♥\n ___♥____\\_____♥\n ____♥___/___♥__\n ______♥_\\_♥____\n ________♥______\n\n\u001b[34mBelow is your histogram for future reference. Many other fish out there!\u001b[0m\nThe histogram is different from what you would expect from the final statevector since we have effectively switched the measurement basis to the target statevector basis.\n"
        },
        {
          "output_type": "display_data",
          "data": {
            "text/plain": "<Figure size 432x288 with 1 Axes>",
            "image/png": "[encoded data removed]"
          },
          "metadata": {
            "needs_background": "light"
          }
        }
      ],
      "execution_count": 10,
      "metadata": {
        "jupyter": {
          "outputs_hidden": false,
          "source_hidden": false
        },
        "nteract": {
          "transient": {
            "deleting": false
          }
        }
      }
    },
    {
      "cell_type": "code",
      "source": [],
      "outputs": [],
      "execution_count": null,
      "metadata": {
        "jupyter": {
          "source_hidden": false,
          "outputs_hidden": false
        },
        "nteract": {
          "transient": {
            "deleting": false
          }
        }
      }
    }
  ],
  "metadata": {
    "interpreter": {
      "hash": "63fd5069d213b44bf678585dea6b12cceca9941eaf7f819626cde1f2670de90d"
    },
    "kernel_info": {
      "name": "python3"
    },
    "kernelspec": {
      "name": "python3",
      "language": "python",
      "display_name": "Python 3 (ipykernel)"
    },
    "language_info": {
      "name": "python",
      "version": "3.7.12",
      "mimetype": "text/x-python",
      "codemirror_mode": {
        "name": "ipython",
        "version": 3
      },
      "pygments_lexer": "ipython3",
      "nbconvert_exporter": "python",
      "file_extension": ".py"
    },
    "nteract": {
      "version": "nteract-front-end@1.0.0"
    }
  },
  "nbformat": 4,
  "nbformat_minor": 0
}